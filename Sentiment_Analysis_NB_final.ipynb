{
 "cells": [
  {
   "cell_type": "code",
   "execution_count": 5,
   "id": "4fa38e33",
   "metadata": {},
   "outputs": [],
   "source": [
    "import os\n",
    "import numpy as np\n",
    "import pandas as pd\n",
    "import matplotlib.pyplot as plt\n",
    "import seaborn as sns\n",
    "from nltk.corpus import stopwords\n",
    "from string import punctuation\n",
    "from nltk.tokenize import word_tokenize\n",
    "from nltk.stem import LancasterStemmer\n",
    "from string import punctuation\n",
    "from nltk.corpus import stopwords\n",
    "from nltk.tokenize import word_tokenize\n",
    "from nltk.stem import LancasterStemmer\n",
    "from nltk.stem.wordnet import WordNetLemmatizer\n",
    "import re\n",
    "import warnings\n",
    "warnings.filterwarnings('ignore')"
   ]
  },
  {
   "cell_type": "markdown",
   "id": "335261b1",
   "metadata": {},
   "source": [
    "### Explanation \n",
    "\n",
    "nltk: The Natural Language Toolkit (NLTK) is a library for working with human language data. It provides a wide range of functionalities for tasks such as tokenization, stemming, lemmatization, part-of-speech tagging, and more. It is widely used in natural language processing (NLP) tasks.\n",
    "\n",
    "To install NLTK, open a Jupyter Notebook cell and run the following command: !pip install nltk\n",
    "os: The os module provides a way to interact with the operating system. It allows you to perform various operations like file and directory manipulation, environment variable access, and process management.\n",
    "\n",
    "The os module is a built-in Python module and does not require separate installation.\n",
    "\n",
    "numpy: NumPy is a library for numerical computing in Python. It provides support for large, multi-dimensional arrays and matrices, along with a collection of mathematical functions to operate on these arrays efficiently.\n",
    "\n",
    "To install NumPy, run the following command in a Jupyter Notebook cell:!pip install numpy\n",
    "pandas: Pandas is a powerful library for data manipulation and analysis. It provides data structures like DataFrames to efficiently handle structured data, as well as various functions for reading, writing, and transforming data.\n",
    "\n",
    "To install Pandas, run the following command in a Jupyter Notebook cell:!pip install pandas\n",
    "matplotlib: Matplotlib is a popular plotting library in Python. It provides a wide range of functions for creating different types of plots, including line plots, bar plots, scatter plots, histograms, and more.\n",
    "\n",
    "To install Matplotlib, run the following command in a Jupyter Notebook cell:!pip install matplotlib\n",
    "seaborn: Seaborn is a statistical data visualization library built on top of Matplotlib. It provides a higher-level interface for creating visually appealing and informative statistical graphics.\n",
    "\n",
    "To install Seaborn, run the following command in a Jupyter Notebook cell:!pip install seaborn\n",
    "stopwords: The stopwords module from NLTK provides a list of common words that are often removed from text during text preprocessing. These words, such as \"a,\" \"an,\" \"the,\" etc., are considered uninformative for many NLP tasks.\n",
    "\n",
    "You don't need to install the stopwords module separately as it is part of the NLTK package.\n",
    "\n",
    "string: The string module provides a collection of constants and functions for string manipulation. In this case, it is used to access punctuation marks.\n",
    "\n",
    "The string module is a built-in Python module and does not require separate installation.\n",
    "\n",
    "LancasterStemmer: The LancasterStemmer is a stemming algorithm implemented in NLTK. Stemming is the process of reducing words to their base or root form, such as converting \"running\" to \"run\" or \"cats\" to \"cat\".\n",
    "\n",
    "You don't need to install the LancasterStemmer separately as it is part of the NLTK package.\n",
    "\n",
    "WordNetLemmatizer: The WordNetLemmatizer is a lemmatization tool provided by NLTK. Lemmatization is the process of reducing words to their base or dictionary form, such as converting \"running\" to \"run\" or \"cats\" to \"cat\".\n",
    "\n",
    "You don't need to install the WordNetLemmatizer separately as it is part of the NLTK package.\n",
    "\n",
    "re: The re module is Python's regular expression module. It provides functions for working with regular expressions, which are powerful patterns used to match and manipulate strings.\n",
    "\n",
    "The re module is a built-in Python module and does not require separate installation.\n",
    "\n",
    "warnings: The warnings module provides a way to control warning messages in Python. In this case, it is used to filter and ignore certain warning messages.\n",
    "\n",
    "The warnings module is a built-in Python module and does not require separate installation.\n",
    "\n",
    "To install all the necessary libraries, run the following commands in Jupyter Notebook cells:\n",
    "!pip install nltk\n",
    "!pip install numpy\n",
    "!pip install pandas\n",
    "!pip install matplotlib\n",
    "!pip install seaborn\n",
    "\n",
    "stopwords: The stopwords module from NLTK provides a list of common words that are often removed from text during text preprocessing. These words, such as \"a,\" \"an,\" \"the,\" etc., are considered uninformative for many NLP tasks.\n",
    "\n",
    "You don't need to install the stopwords module separately as it is part of the NLTK package.\n",
    "\n",
    "punctuation: The punctuation module from the string library provides a string of common punctuation marks. It is used in text preprocessing to remove punctuation from text data.\n",
    "\n",
    "The string module is a built-in Python module and does not require separate installation.\n",
    "\n",
    "word_tokenize: The word_tokenize function from NLTK is used to split text into individual words or tokens. It provides a convenient way to tokenize text for further analysis.\n",
    "\n",
    "To install NLTK, open a Jupyter Notebook cell and run the following command:!pip install nltk\n",
    "LancasterStemmer: The LancasterStemmer is a stemming algorithm implemented in NLTK. Stemming is the process of reducing words to their base or root form, such as converting \"running\" to \"run\" or \"cats\" to \"cat\".\n",
    "\n",
    "You don't need to install the LancasterStemmer separately as it is part of the NLTK package.\n",
    "\n",
    "warnings: The warnings module provides a way to control warning messages in Python. In this case, it is used to filter and ignore certain warning messages.\n",
    "\n",
    "The warnings module is a built-in Python module and does not require separate installation.\n",
    "\n",
    "To install NLTK, run the following command in a Jupyter Notebook cell:!pip install nltk\n",
    "Once NLTK is installed, you also need to download the necessary resources for tokenization and stopwords. Run the following code in a Jupyter Notebook cell:\n",
    "import nltk\n",
    "\n",
    "nltk.download('punkt')\n",
    "nltk.download('stopwords')\n",
    "These commands will download the required resources for tokenization and stopwords from NLTK's data repository.\n"
   ]
  },
  {
   "cell_type": "markdown",
   "id": "1d63923d",
   "metadata": {},
   "source": [
    "## What you have to do:\n",
    "Dataset with sentiments: Obtain a dataset that contains tweets or text data along with their corresponding sentiment labels. These labels could be positive, negative, or neutral, indicating the sentiment expressed in the tweet.\n",
    "\n",
    "Downsampling the dataset: If the dataset is imbalanced, meaning one sentiment class is significantly more prevalent than others, you may need to downsample the dataset to achieve a more balanced distribution. Downsampling involves randomly removing samples from the majority class to reduce its dominance. This step helps prevent bias towards the majority class during model training.\n",
    "\n",
    "Data preprocessing: Perform data preprocessing steps to clean and transform the text data. Common preprocessing steps include removing special characters, converting text to lowercase, removing stopwords (commonly occurring words that do not carry significant meaning), and applying stemming or lemmatization to reduce words to their base form.\n",
    "\n",
    "Exploratory Data Analysis (EDA): Conduct exploratory data analysis to gain insights into the dataset. Explore the distribution of sentiment labels, analyze word frequencies, and visualize patterns in the data. EDA helps you understand the characteristics of the dataset and informs your feature engineering and modeling decisions.\n",
    "\n",
    "Feature extraction: Convert the preprocessed text data into numerical features that machine learning models can understand. Common techniques include bag-of-words representation, TF-IDF (Term Frequency-Inverse Document Frequency), word embeddings (e.g., Word2Vec, GloVe), or more advanced methods like BERT embeddings. These features capture the essence of the text data and are used as input to the classification model.\n",
    "\n",
    "Classification: Train a classification model on the preprocessed and transformed data. Select an appropriate algorithm such as Naive Bayes, Support Vector Machines (SVM), Random Forest, or Neural Networks. Split the dataset into training and testing sets, train the model on the training set, and evaluate its performance on the testing set. Use appropriate evaluation metrics like accuracy, precision, recall, and F1-score to assess the model's performance.\n",
    "\n",
    "Conclusion: Summarize the findings of your analysis and draw conclusions about the sentiment patterns in the Twitter data. Discuss the performance of the classification model and any insights gained from the EDA. You may also provide recommendations for further improvements or potential applications based on the analysis results."
   ]
  },
  {
   "cell_type": "markdown",
   "id": "a256b374",
   "metadata": {},
   "source": [
    "## Twitter Sentiment Dataset \n",
    "\n",
    "Downloading the twitter sentiment dataset having 10 million entries. \n",
    "The dataset is divided into 4 sentiments: 0 to 4 each representing a particular sentiment "
   ]
  },
  {
   "cell_type": "code",
   "execution_count": 6,
   "id": "e5755aab",
   "metadata": {},
   "outputs": [
    {
     "data": {
      "text/html": [
       "<div>\n",
       "<style scoped>\n",
       "    .dataframe tbody tr th:only-of-type {\n",
       "        vertical-align: middle;\n",
       "    }\n",
       "\n",
       "    .dataframe tbody tr th {\n",
       "        vertical-align: top;\n",
       "    }\n",
       "\n",
       "    .dataframe thead th {\n",
       "        text-align: right;\n",
       "    }\n",
       "</style>\n",
       "<table border=\"1\" class=\"dataframe\">\n",
       "  <thead>\n",
       "    <tr style=\"text-align: right;\">\n",
       "      <th></th>\n",
       "      <th>polarity of tweet�</th>\n",
       "      <th>id of the tweet</th>\n",
       "      <th>date of the tweet</th>\n",
       "      <th>query</th>\n",
       "      <th>user</th>\n",
       "      <th>text of the tweet�</th>\n",
       "    </tr>\n",
       "  </thead>\n",
       "  <tbody>\n",
       "    <tr>\n",
       "      <th>0</th>\n",
       "      <td>0</td>\n",
       "      <td>1467810672</td>\n",
       "      <td>Mon Apr 06 22:19:49 PDT 2009</td>\n",
       "      <td>NO_QUERY</td>\n",
       "      <td>scotthamilton</td>\n",
       "      <td>is upset that he can't update his Facebook by ...</td>\n",
       "    </tr>\n",
       "    <tr>\n",
       "      <th>1</th>\n",
       "      <td>0</td>\n",
       "      <td>1467810917</td>\n",
       "      <td>Mon Apr 06 22:19:53 PDT 2009</td>\n",
       "      <td>NO_QUERY</td>\n",
       "      <td>mattycus</td>\n",
       "      <td>@Kenichan I dived many times for the ball. Man...</td>\n",
       "    </tr>\n",
       "    <tr>\n",
       "      <th>2</th>\n",
       "      <td>0</td>\n",
       "      <td>1467811184</td>\n",
       "      <td>Mon Apr 06 22:19:57 PDT 2009</td>\n",
       "      <td>NO_QUERY</td>\n",
       "      <td>ElleCTF</td>\n",
       "      <td>my whole body feels itchy and like its on fire</td>\n",
       "    </tr>\n",
       "    <tr>\n",
       "      <th>3</th>\n",
       "      <td>0</td>\n",
       "      <td>1467811193</td>\n",
       "      <td>Mon Apr 06 22:19:57 PDT 2009</td>\n",
       "      <td>NO_QUERY</td>\n",
       "      <td>Karoli</td>\n",
       "      <td>@nationwideclass no, it's not behaving at all....</td>\n",
       "    </tr>\n",
       "    <tr>\n",
       "      <th>4</th>\n",
       "      <td>0</td>\n",
       "      <td>1467811372</td>\n",
       "      <td>Mon Apr 06 22:20:00 PDT 2009</td>\n",
       "      <td>NO_QUERY</td>\n",
       "      <td>joy_wolf</td>\n",
       "      <td>@Kwesidei not the whole crew</td>\n",
       "    </tr>\n",
       "  </tbody>\n",
       "</table>\n",
       "</div>"
      ],
      "text/plain": [
       "   polarity of tweet�  id of the tweet             date of the tweet  \\\n",
       "0                   0       1467810672  Mon Apr 06 22:19:49 PDT 2009   \n",
       "1                   0       1467810917  Mon Apr 06 22:19:53 PDT 2009   \n",
       "2                   0       1467811184  Mon Apr 06 22:19:57 PDT 2009   \n",
       "3                   0       1467811193  Mon Apr 06 22:19:57 PDT 2009   \n",
       "4                   0       1467811372  Mon Apr 06 22:20:00 PDT 2009   \n",
       "\n",
       "      query           user                                 text of the tweet�  \n",
       "0  NO_QUERY  scotthamilton  is upset that he can't update his Facebook by ...  \n",
       "1  NO_QUERY       mattycus  @Kenichan I dived many times for the ball. Man...  \n",
       "2  NO_QUERY        ElleCTF    my whole body feels itchy and like its on fire   \n",
       "3  NO_QUERY         Karoli  @nationwideclass no, it's not behaving at all....  \n",
       "4  NO_QUERY       joy_wolf                      @Kwesidei not the whole crew   "
      ]
     },
     "execution_count": 6,
     "metadata": {},
     "output_type": "execute_result"
    }
   ],
   "source": [
    "sentiment_dataset = pd.read_csv(\"sentiment dataset.csv\")\n",
    "sentiment_dataset.head()"
   ]
  },
  {
   "cell_type": "code",
   "execution_count": 7,
   "id": "bbe1ead7",
   "metadata": {},
   "outputs": [
    {
     "data": {
      "text/plain": [
       "Index(['polarity of tweet�', 'id of the tweet', 'date of the tweet', 'query',\n",
       "       'user', 'text of the tweet�'],\n",
       "      dtype='object')"
      ]
     },
     "execution_count": 7,
     "metadata": {},
     "output_type": "execute_result"
    }
   ],
   "source": [
    "sentiment_dataset.size\n",
    "sentiment_dataset.columns"
   ]
  },
  {
   "cell_type": "markdown",
   "id": "04d60f25",
   "metadata": {},
   "source": [
    "## Downsampling the dataset to avoid bias \n"
   ]
  },
  {
   "cell_type": "code",
   "execution_count": 8,
   "id": "76342022",
   "metadata": {},
   "outputs": [],
   "source": [
    "from sklearn.utils import resample\n",
    "\n",
    "# Separate the majority and minority classes\n",
    "majority_class = sentiment_dataset[sentiment_dataset['polarity of tweet�'] == 0]\n",
    "minority_class = sentiment_dataset[sentiment_dataset['polarity of tweet�'] == 4]\n",
    "\n",
    "# Downsample the majority class\n",
    "majority_downsampled = resample(majority_class, replace=False, n_samples=len(minority_class), random_state=42)\n",
    "\n",
    "# Combine the downsampled majority class with the minority class\n",
    "df_downsampled = pd.concat([majority_downsampled, minority_class])"
   ]
  },
  {
   "cell_type": "code",
   "execution_count": 9,
   "id": "c0cbc5cb",
   "metadata": {
    "scrolled": true
   },
   "outputs": [
    {
     "data": {
      "text/html": [
       "<div>\n",
       "<style scoped>\n",
       "    .dataframe tbody tr th:only-of-type {\n",
       "        vertical-align: middle;\n",
       "    }\n",
       "\n",
       "    .dataframe tbody tr th {\n",
       "        vertical-align: top;\n",
       "    }\n",
       "\n",
       "    .dataframe thead th {\n",
       "        text-align: right;\n",
       "    }\n",
       "</style>\n",
       "<table border=\"1\" class=\"dataframe\">\n",
       "  <thead>\n",
       "    <tr style=\"text-align: right;\">\n",
       "      <th></th>\n",
       "      <th>polarity of tweet�</th>\n",
       "      <th>id of the tweet</th>\n",
       "      <th>date of the tweet</th>\n",
       "      <th>query</th>\n",
       "      <th>user</th>\n",
       "      <th>text of the tweet�</th>\n",
       "    </tr>\n",
       "  </thead>\n",
       "  <tbody>\n",
       "    <tr>\n",
       "      <th>833606</th>\n",
       "      <td>4</td>\n",
       "      <td>1557801057</td>\n",
       "      <td>Sun Apr 19 06:03:44 PDT 2009</td>\n",
       "      <td>NO_QUERY</td>\n",
       "      <td>miamishyner</td>\n",
       "      <td>@Kevin_Wolf good on ya. Back to your movie rep...</td>\n",
       "    </tr>\n",
       "    <tr>\n",
       "      <th>251623</th>\n",
       "      <td>0</td>\n",
       "      <td>1983529736</td>\n",
       "      <td>Sun May 31 13:19:58 PDT 2009</td>\n",
       "      <td>NO_QUERY</td>\n",
       "      <td>paolasp</td>\n",
       "      <td>storm clouds chased us home. loud party still ...</td>\n",
       "    </tr>\n",
       "    <tr>\n",
       "      <th>554012</th>\n",
       "      <td>0</td>\n",
       "      <td>2203753337</td>\n",
       "      <td>Wed Jun 17 00:27:20 PDT 2009</td>\n",
       "      <td>NO_QUERY</td>\n",
       "      <td>jazmcdougall</td>\n",
       "      <td>Prototype  Another idea I had seemingly ruined...</td>\n",
       "    </tr>\n",
       "    <tr>\n",
       "      <th>586934</th>\n",
       "      <td>0</td>\n",
       "      <td>2216140958</td>\n",
       "      <td>Wed Jun 17 19:05:31 PDT 2009</td>\n",
       "      <td>NO_QUERY</td>\n",
       "      <td>fcknbarbee</td>\n",
       "      <td>Mann my car won't be ready til tomorrow</td>\n",
       "    </tr>\n",
       "    <tr>\n",
       "      <th>901133</th>\n",
       "      <td>4</td>\n",
       "      <td>1694181935</td>\n",
       "      <td>Mon May 04 01:27:15 PDT 2009</td>\n",
       "      <td>NO_QUERY</td>\n",
       "      <td>_AdriaNno_</td>\n",
       "      <td>This may sound stupid... but i just bought a m...</td>\n",
       "    </tr>\n",
       "    <tr>\n",
       "      <th>...</th>\n",
       "      <td>...</td>\n",
       "      <td>...</td>\n",
       "      <td>...</td>\n",
       "      <td>...</td>\n",
       "      <td>...</td>\n",
       "      <td>...</td>\n",
       "    </tr>\n",
       "    <tr>\n",
       "      <th>300806</th>\n",
       "      <td>0</td>\n",
       "      <td>1998431907</td>\n",
       "      <td>Mon Jun 01 18:32:17 PDT 2009</td>\n",
       "      <td>NO_QUERY</td>\n",
       "      <td>MsBlckSummer</td>\n",
       "      <td>@KockiTsRanduM: Being sick away from home has ...</td>\n",
       "    </tr>\n",
       "    <tr>\n",
       "      <th>941521</th>\n",
       "      <td>4</td>\n",
       "      <td>1794266466</td>\n",
       "      <td>Thu May 14 05:23:57 PDT 2009</td>\n",
       "      <td>NO_QUERY</td>\n",
       "      <td>clintredwine</td>\n",
       "      <td>@amiestuart Ewwww! That's some true nasty righ...</td>\n",
       "    </tr>\n",
       "    <tr>\n",
       "      <th>261468</th>\n",
       "      <td>0</td>\n",
       "      <td>1985924196</td>\n",
       "      <td>Sun May 31 18:01:53 PDT 2009</td>\n",
       "      <td>NO_QUERY</td>\n",
       "      <td>alyssa_XD</td>\n",
       "      <td>@mitchelmusso i am not aloud to get it</td>\n",
       "    </tr>\n",
       "    <tr>\n",
       "      <th>987364</th>\n",
       "      <td>4</td>\n",
       "      <td>1834659378</td>\n",
       "      <td>Mon May 18 03:45:56 PDT 2009</td>\n",
       "      <td>NO_QUERY</td>\n",
       "      <td>lovesgreyboy</td>\n",
       "      <td>@Nicolaarthur ooh wats the job?good luck</td>\n",
       "    </tr>\n",
       "    <tr>\n",
       "      <th>1011536</th>\n",
       "      <td>4</td>\n",
       "      <td>1881109257</td>\n",
       "      <td>Fri May 22 03:37:56 PDT 2009</td>\n",
       "      <td>NO_QUERY</td>\n",
       "      <td>aliceaccordino</td>\n",
       "      <td>90 degrees and sunny</td>\n",
       "    </tr>\n",
       "  </tbody>\n",
       "</table>\n",
       "<p>100 rows × 6 columns</p>\n",
       "</div>"
      ],
      "text/plain": [
       "         polarity of tweet�  id of the tweet             date of the tweet  \\\n",
       "833606                    4       1557801057  Sun Apr 19 06:03:44 PDT 2009   \n",
       "251623                    0       1983529736  Sun May 31 13:19:58 PDT 2009   \n",
       "554012                    0       2203753337  Wed Jun 17 00:27:20 PDT 2009   \n",
       "586934                    0       2216140958  Wed Jun 17 19:05:31 PDT 2009   \n",
       "901133                    4       1694181935  Mon May 04 01:27:15 PDT 2009   \n",
       "...                     ...              ...                           ...   \n",
       "300806                    0       1998431907  Mon Jun 01 18:32:17 PDT 2009   \n",
       "941521                    4       1794266466  Thu May 14 05:23:57 PDT 2009   \n",
       "261468                    0       1985924196  Sun May 31 18:01:53 PDT 2009   \n",
       "987364                    4       1834659378  Mon May 18 03:45:56 PDT 2009   \n",
       "1011536                   4       1881109257  Fri May 22 03:37:56 PDT 2009   \n",
       "\n",
       "            query            user  \\\n",
       "833606   NO_QUERY     miamishyner   \n",
       "251623   NO_QUERY         paolasp   \n",
       "554012   NO_QUERY    jazmcdougall   \n",
       "586934   NO_QUERY      fcknbarbee   \n",
       "901133   NO_QUERY      _AdriaNno_   \n",
       "...           ...             ...   \n",
       "300806   NO_QUERY    MsBlckSummer   \n",
       "941521   NO_QUERY    clintredwine   \n",
       "261468   NO_QUERY       alyssa_XD   \n",
       "987364   NO_QUERY    lovesgreyboy   \n",
       "1011536  NO_QUERY  aliceaccordino   \n",
       "\n",
       "                                        text of the tweet�  \n",
       "833606   @Kevin_Wolf good on ya. Back to your movie rep...  \n",
       "251623   storm clouds chased us home. loud party still ...  \n",
       "554012   Prototype  Another idea I had seemingly ruined...  \n",
       "586934            Mann my car won't be ready til tomorrow   \n",
       "901133   This may sound stupid... but i just bought a m...  \n",
       "...                                                    ...  \n",
       "300806   @KockiTsRanduM: Being sick away from home has ...  \n",
       "941521   @amiestuart Ewwww! That's some true nasty righ...  \n",
       "261468             @mitchelmusso i am not aloud to get it   \n",
       "987364           @Nicolaarthur ooh wats the job?good luck   \n",
       "1011536                              90 degrees and sunny   \n",
       "\n",
       "[100 rows x 6 columns]"
      ]
     },
     "execution_count": 9,
     "metadata": {},
     "output_type": "execute_result"
    }
   ],
   "source": [
    "df_downsampled.sample(100)"
   ]
  },
  {
   "cell_type": "code",
   "execution_count": 10,
   "id": "f04fda11",
   "metadata": {},
   "outputs": [
    {
     "name": "stdout",
     "output_type": "stream",
     "text": [
      "0    248576\n",
      "4    248576\n",
      "Name: polarity of tweet�, dtype: int64\n"
     ]
    }
   ],
   "source": [
    "# Count the number of samples for each polarity class\n",
    "polarity_counts = df_downsampled['polarity of tweet�'].value_counts()\n",
    "\n",
    "# Display the counts\n",
    "print(polarity_counts)"
   ]
  },
  {
   "cell_type": "markdown",
   "id": "de845778",
   "metadata": {},
   "source": [
    "## Data Preprocessing \n",
    "\n",
    "Steps involved:\n",
    "- removing special characters\n",
    "- converting text to lowercase\n",
    "- removing stopwords (commonly occurring words that do not carry significant meaning) \n",
    "- stemming or lemmatization (to reduce words to their base form)"
   ]
  },
  {
   "cell_type": "code",
   "execution_count": 11,
   "id": "db0098a2",
   "metadata": {},
   "outputs": [
    {
     "name": "stderr",
     "output_type": "stream",
     "text": [
      "[nltk_data] Downloading package stopwords to\n",
      "[nltk_data]     C:\\Users\\abida\\AppData\\Roaming\\nltk_data...\n",
      "[nltk_data]   Package stopwords is already up-to-date!\n",
      "[nltk_data] Downloading package wordnet to\n",
      "[nltk_data]     C:\\Users\\abida\\AppData\\Roaming\\nltk_data...\n",
      "[nltk_data]   Package wordnet is already up-to-date!\n"
     ]
    },
    {
     "data": {
      "text/plain": [
       "True"
      ]
     },
     "execution_count": 11,
     "metadata": {},
     "output_type": "execute_result"
    }
   ],
   "source": [
    "import nltk\n",
    "nltk.download('stopwords')\n",
    "nltk.download('wordnet')"
   ]
  },
  {
   "cell_type": "code",
   "execution_count": 12,
   "id": "7ccfb69f",
   "metadata": {},
   "outputs": [],
   "source": [
    "class TextPreprocessor:\n",
    "    def __init__(self):\n",
    "        self.stop_words = set(stopwords.words('english'))\n",
    "        self.lemmatizer = WordNetLemmatizer()\n",
    "    \n",
    "    def remove_special_characters(self, text):\n",
    "        # Remove special characters and digits\n",
    "        text = re.sub(r'[^a-zA-Z\\s]', '', text)\n",
    "        return text\n",
    "    \n",
    "    def preprocess_text(self, text):\n",
    "        # Convert text to lowercase\n",
    "        text = text.lower()\n",
    "        \n",
    "        # Remove special characters and digits\n",
    "        text = self.remove_special_characters(text)\n",
    "        \n",
    "        # Tokenize the text into individual words\n",
    "        words = word_tokenize(text)\n",
    "        \n",
    "        # Remove stopwords\n",
    "        words = [word for word in words if word not in self.stop_words]\n",
    "        \n",
    "        # Lemmatize words to their base form\n",
    "        words = [self.lemmatizer.lemmatize(word) for word in words]\n",
    "        \n",
    "        # Join the words back into a single string\n",
    "        preprocessed_text = ' '.join(words)\n",
    "        \n",
    "        return preprocessed_text\n",
    "    \n",
    "    def preprocess_dataset(self, dataset):\n",
    "        dataset['text of the tweet�'] = dataset['text of the tweet�'].apply(self.preprocess_text)\n",
    "        return dataset\n",
    "\n",
    "\n",
    "# Example usage\n",
    "preprocessor = TextPreprocessor()\n",
    "processed_dataset = preprocessor.preprocess_dataset(df_downsampled)\n"
   ]
  },
  {
   "cell_type": "code",
   "execution_count": 13,
   "id": "71c991f4",
   "metadata": {},
   "outputs": [
    {
     "data": {
      "text/html": [
       "<div>\n",
       "<style scoped>\n",
       "    .dataframe tbody tr th:only-of-type {\n",
       "        vertical-align: middle;\n",
       "    }\n",
       "\n",
       "    .dataframe tbody tr th {\n",
       "        vertical-align: top;\n",
       "    }\n",
       "\n",
       "    .dataframe thead th {\n",
       "        text-align: right;\n",
       "    }\n",
       "</style>\n",
       "<table border=\"1\" class=\"dataframe\">\n",
       "  <thead>\n",
       "    <tr style=\"text-align: right;\">\n",
       "      <th></th>\n",
       "      <th>polarity of tweet�</th>\n",
       "      <th>id of the tweet</th>\n",
       "      <th>date of the tweet</th>\n",
       "      <th>query</th>\n",
       "      <th>user</th>\n",
       "      <th>text of the tweet�</th>\n",
       "    </tr>\n",
       "  </thead>\n",
       "  <tbody>\n",
       "    <tr>\n",
       "      <th>212188</th>\n",
       "      <td>0</td>\n",
       "      <td>1974671959</td>\n",
       "      <td>Sat May 30 13:36:36 PDT 2009</td>\n",
       "      <td>NO_QUERY</td>\n",
       "      <td>jessicatamman</td>\n",
       "      <td>amruth early bird didnt reply facebook wall po...</td>\n",
       "    </tr>\n",
       "    <tr>\n",
       "      <th>674330</th>\n",
       "      <td>0</td>\n",
       "      <td>2247756082</td>\n",
       "      <td>Fri Jun 19 19:34:35 PDT 2009</td>\n",
       "      <td>NO_QUERY</td>\n",
       "      <td>TinaF75</td>\n",
       "      <td>sooo hot tonight wish pool id outside skinny d...</td>\n",
       "    </tr>\n",
       "    <tr>\n",
       "      <th>752234</th>\n",
       "      <td>0</td>\n",
       "      <td>2286390032</td>\n",
       "      <td>Mon Jun 22 16:22:54 PDT 2009</td>\n",
       "      <td>NO_QUERY</td>\n",
       "      <td>hellomariely</td>\n",
       "      <td>darkandrez washing clothes</td>\n",
       "    </tr>\n",
       "    <tr>\n",
       "      <th>415739</th>\n",
       "      <td>0</td>\n",
       "      <td>2061140384</td>\n",
       "      <td>Sat Jun 06 20:15:32 PDT 2009</td>\n",
       "      <td>NO_QUERY</td>\n",
       "      <td>Pochaccoyoly</td>\n",
       "      <td>asexiness suck</td>\n",
       "    </tr>\n",
       "    <tr>\n",
       "      <th>138859</th>\n",
       "      <td>0</td>\n",
       "      <td>1880667573</td>\n",
       "      <td>Fri May 22 02:03:48 PDT 2009</td>\n",
       "      <td>NO_QUERY</td>\n",
       "      <td>Milseyworks</td>\n",
       "      <td>havent watch yet finale ai ive waiting replay ...</td>\n",
       "    </tr>\n",
       "  </tbody>\n",
       "</table>\n",
       "</div>"
      ],
      "text/plain": [
       "        polarity of tweet�  id of the tweet             date of the tweet  \\\n",
       "212188                   0       1974671959  Sat May 30 13:36:36 PDT 2009   \n",
       "674330                   0       2247756082  Fri Jun 19 19:34:35 PDT 2009   \n",
       "752234                   0       2286390032  Mon Jun 22 16:22:54 PDT 2009   \n",
       "415739                   0       2061140384  Sat Jun 06 20:15:32 PDT 2009   \n",
       "138859                   0       1880667573  Fri May 22 02:03:48 PDT 2009   \n",
       "\n",
       "           query           user  \\\n",
       "212188  NO_QUERY  jessicatamman   \n",
       "674330  NO_QUERY        TinaF75   \n",
       "752234  NO_QUERY   hellomariely   \n",
       "415739  NO_QUERY   Pochaccoyoly   \n",
       "138859  NO_QUERY    Milseyworks   \n",
       "\n",
       "                                       text of the tweet�  \n",
       "212188  amruth early bird didnt reply facebook wall po...  \n",
       "674330  sooo hot tonight wish pool id outside skinny d...  \n",
       "752234                         darkandrez washing clothes  \n",
       "415739                                     asexiness suck  \n",
       "138859  havent watch yet finale ai ive waiting replay ...  "
      ]
     },
     "execution_count": 13,
     "metadata": {},
     "output_type": "execute_result"
    }
   ],
   "source": [
    "#ROUGH WORK \n",
    "processed_dataset.head()"
   ]
  },
  {
   "cell_type": "code",
   "execution_count": 14,
   "id": "74e228d2",
   "metadata": {},
   "outputs": [
    {
     "name": "stdout",
     "output_type": "stream",
     "text": [
      "212188     amruth early bird didnt reply facebook wall po...\n",
      "674330     sooo hot tonight wish pool id outside skinny d...\n",
      "752234                            darkandrez washing clothes\n",
      "415739                                        asexiness suck\n",
      "138859     havent watch yet finale ai ive waiting replay ...\n",
      "                                 ...                        \n",
      "1048567                            grandma making dinenr mum\n",
      "1048568         midmorning snack time bowl cheese noodle yum\n",
      "1048569    shadela say like terminiator movie come like word\n",
      "1048570                    destinyhope im great thaanks wbuu\n",
      "1048571                           cant wait til date weekend\n",
      "Name: text of the tweet�, Length: 497152, dtype: object\n"
     ]
    }
   ],
   "source": [
    "#ROUGH WORK \n",
    "print(processed_dataset['text of the tweet�'])"
   ]
  },
  {
   "cell_type": "code",
   "execution_count": 15,
   "id": "fd8b01c0",
   "metadata": {},
   "outputs": [
    {
     "name": "stdout",
     "output_type": "stream",
     "text": [
      "['i', 'me', 'my', 'myself', 'we', 'our', 'ours', 'ourselves', 'you', \"you're\", \"you've\", \"you'll\", \"you'd\", 'your', 'yours', 'yourself', 'yourselves', 'he', 'him', 'his', 'himself', 'she', \"she's\", 'her', 'hers', 'herself', 'it', \"it's\", 'its', 'itself', 'they', 'them', 'their', 'theirs', 'themselves', 'what', 'which', 'who', 'whom', 'this', 'that', \"that'll\", 'these', 'those', 'am', 'is', 'are', 'was', 'were', 'be', 'been', 'being', 'have', 'has', 'had', 'having', 'do', 'does', 'did', 'doing', 'a', 'an', 'the', 'and', 'but', 'if', 'or', 'because', 'as', 'until', 'while', 'of', 'at', 'by', 'for', 'with', 'about', 'against', 'between', 'into', 'through', 'during', 'before', 'after', 'above', 'below', 'to', 'from', 'up', 'down', 'in', 'out', 'on', 'off', 'over', 'under', 'again', 'further', 'then', 'once', 'here', 'there', 'when', 'where', 'why', 'how', 'all', 'any', 'both', 'each', 'few', 'more', 'most', 'other', 'some', 'such', 'no', 'nor', 'not', 'only', 'own', 'same', 'so', 'than', 'too', 'very', 's', 't', 'can', 'will', 'just', 'don', \"don't\", 'should', \"should've\", 'now', 'd', 'll', 'm', 'o', 're', 've', 'y', 'ain', 'aren', \"aren't\", 'couldn', \"couldn't\", 'didn', \"didn't\", 'doesn', \"doesn't\", 'hadn', \"hadn't\", 'hasn', \"hasn't\", 'haven', \"haven't\", 'isn', \"isn't\", 'ma', 'mightn', \"mightn't\", 'mustn', \"mustn't\", 'needn', \"needn't\", 'shan', \"shan't\", 'shouldn', \"shouldn't\", 'wasn', \"wasn't\", 'weren', \"weren't\", 'won', \"won't\", 'wouldn', \"wouldn't\"]\n"
     ]
    }
   ],
   "source": [
    "#ROUGH WORK \n",
    "print(stopwords.words('english'))"
   ]
  },
  {
   "cell_type": "markdown",
   "id": "26fd2406",
   "metadata": {},
   "source": [
    "## Exploratory Data Analysis (EDA):\n",
    "    \n",
    "Conduct exploratory data analysis to gain insights into the dataset. \n",
    "Explore the following: \n",
    "- distribution of sentiment labels, \n",
    "- analyze word frequencies,\n",
    "- visualize patterns in the data. \n",
    "\n",
    "EDA helps you understand the characteristics of the dataset and informs your feature engineering and modeling decisions."
   ]
  },
  {
   "cell_type": "code",
   "execution_count": 16,
   "id": "7535e85c",
   "metadata": {},
   "outputs": [
    {
     "data": {
      "image/png": "[encoded data removed]",
      "text/plain": [
       "<Figure size 432x288 with 1 Axes>"
      ]
     },
     "metadata": {
      "needs_background": "light"
     },
     "output_type": "display_data"
    }
   ],
   "source": [
    "# Distribution of sentiment labels\n",
    "sentiment_dataset['polarity of tweet�'].value_counts().plot(kind='bar')\n",
    "plt.xlabel('Sentiment')\n",
    "plt.ylabel('Count')\n",
    "plt.title('Distribution of Sentiment Labels')\n",
    "plt.show()"
   ]
  },
  {
   "cell_type": "code",
   "execution_count": 17,
   "id": "d13edaa1",
   "metadata": {},
   "outputs": [
    {
     "data": {
      "image/png": "[encoded data removed]",
      "text/plain": [
       "<Figure size 432x288 with 1 Axes>"
      ]
     },
     "metadata": {
      "needs_background": "light"
     },
     "output_type": "display_data"
    }
   ],
   "source": [
    "df_downsampled['polarity of tweet�'].value_counts().plot(kind='bar')\n",
    "plt.xlabel('Sentiment')\n",
    "plt.ylabel('Count')\n",
    "plt.title('Distribution of Sentiment Labels')\n",
    "plt.show()"
   ]
  },
  {
   "cell_type": "code",
   "execution_count": 18,
   "id": "6eb4dd5a",
   "metadata": {},
   "outputs": [
    {
     "data": {
      "image/png": "[encoded data removed]",
      "text/plain": [
       "<Figure size 432x288 with 1 Axes>"
      ]
     },
     "metadata": {
      "needs_background": "light"
     },
     "output_type": "display_data"
    }
   ],
   "source": [
    "processed_dataset['polarity of tweet�'].value_counts().plot(kind='bar')\n",
    "plt.xlabel('Sentiment')\n",
    "plt.ylabel('Count')\n",
    "plt.title('Distribution of Sentiment Labels')\n",
    "plt.show()"
   ]
  },
  {
   "cell_type": "code",
   "execution_count": 19,
   "id": "0ee53365",
   "metadata": {},
   "outputs": [
    {
     "data": {
      "image/png": "[encoded data removed]",
      "text/plain": [
       "<Figure size 720x360 with 1 Axes>"
      ]
     },
     "metadata": {
      "needs_background": "light"
     },
     "output_type": "display_data"
    }
   ],
   "source": [
    "# Alphabet frequencies analysis \n",
    "from wordcloud import WordCloud\n",
    "\n",
    "all_words = ' '.join(processed_dataset['text of the tweet�'])\n",
    "wordcloud = WordCloud(width=800, height=400, max_words=100, background_color='white').generate(all_words)\n",
    "\n",
    "plt.figure(figsize=(10, 5))\n",
    "plt.imshow(wordcloud, interpolation='bilinear')\n",
    "plt.axis('off')\n",
    "plt.title('Word Cloud')\n",
    "plt.show()"
   ]
  },
  {
   "cell_type": "code",
   "execution_count": 20,
   "id": "2796d533",
   "metadata": {},
   "outputs": [],
   "source": [
    "# Alphabet Fequency Analysis\n",
    "#install some additional libraries\n",
    "from nltk.probability import FreqDist\n",
    "\n",
    "# Apply preprocessing to the text data\n",
    "processed_words = processed_dataset['text of the tweet�']\n",
    "\n",
    "# Concatenate all preprocessed words into a single list\n",
    "all_words = [word for words in processed_words for word in words]\n"
   ]
  },
  {
   "cell_type": "code",
   "execution_count": 21,
   "id": "1cf7460a",
   "metadata": {},
   "outputs": [
    {
     "data": {
      "text/plain": [
       "FreqDist({' ': 3346572, 'e': 2280356, 'a': 1672845, 'o': 1613742, 't': 1569894, 'i': 1434490, 'n': 1413444, 'r': 1160121, 'l': 1136247, 's': 1053225, ...})"
      ]
     },
     "execution_count": 21,
     "metadata": {},
     "output_type": "execute_result"
    }
   ],
   "source": [
    "# Create a frequency distribution of words\n",
    "word_freq = FreqDist(all_words)\n",
    "word_freq"
   ]
  },
  {
   "cell_type": "code",
   "execution_count": 22,
   "id": "ca6b80a7",
   "metadata": {},
   "outputs": [
    {
     "data": {
      "text/plain": [
       "[(' ', 3346572),\n",
       " ('e', 2280356),\n",
       " ('a', 1672845),\n",
       " ('o', 1613742),\n",
       " ('t', 1569894),\n",
       " ('i', 1434490),\n",
       " ('n', 1413444),\n",
       " ('r', 1160121),\n",
       " ('l', 1136247),\n",
       " ('s', 1053225),\n",
       " ('d', 838757),\n",
       " ('h', 833035),\n",
       " ('g', 744776),\n",
       " ('m', 695641),\n",
       " ('c', 650000),\n",
       " ('y', 607558),\n",
       " ('u', 604891),\n",
       " ('p', 503510),\n",
       " ('w', 497559),\n",
       " ('k', 429599)]"
      ]
     },
     "execution_count": 22,
     "metadata": {},
     "output_type": "execute_result"
    }
   ],
   "source": [
    "# Get the most common alphabets and their frequencies\n",
    "most_common = word_freq.most_common(20)\n",
    "most_common"
   ]
  },
  {
   "cell_type": "code",
   "execution_count": 23,
   "id": "ddb534a5",
   "metadata": {},
   "outputs": [
    {
     "data": {
      "image/png": "[encoded data removed]",
      "text/plain": [
       "<Figure size 720x432 with 1 Axes>"
      ]
     },
     "metadata": {
      "needs_background": "light"
     },
     "output_type": "display_data"
    }
   ],
   "source": [
    "# Plotting the word frequency distribution\n",
    "plt.figure(figsize=(10, 6))\n",
    "plt.title('Word Frequency Distribution')\n",
    "plt.xlabel('Samples')\n",
    "plt.ylabel('Counts')\n",
    "word_freq.plot(20)\n",
    "plt.show()\n"
   ]
  },
  {
   "cell_type": "code",
   "execution_count": 24,
   "id": "dd5afb27",
   "metadata": {},
   "outputs": [
    {
     "data": {
      "text/plain": [
       "<Figure size 720x432 with 0 Axes>"
      ]
     },
     "metadata": {},
     "output_type": "display_data"
    },
    {
     "data": {
      "image/png": "[encoded data removed]",
      "text/plain": [
       "<Figure size 432x288 with 1 Axes>"
      ]
     },
     "metadata": {
      "needs_background": "light"
     },
     "output_type": "display_data"
    }
   ],
   "source": [
    "# Sentiment Over Time \n",
    "\n",
    "# Assuming you have a 'date' column in your dataset\n",
    "#processed_dataset['date of the tweet'] = processed_dataset.to_datetime(df['date of the tweet'])\n",
    "processed_dataset['date of the tweet'] = pd.to_datetime(processed_dataset['date of the tweet'])\n",
    "\n",
    "\n",
    "# Group by date and sentiment, and calculate sentiment percentages\n",
    "sentiment_by_date = processed_dataset.groupby([processed_dataset['date of the tweet'].dt.date, 'polarity of tweet�']).size().unstack(fill_value=0)\n",
    "sentiment_percentages_by_date = sentiment_by_date.apply(lambda row: row / row.sum() * 100, axis=1)\n",
    "\n",
    "plt.figure(figsize=(10, 6))\n",
    "sentiment_percentages_by_date.plot(kind='line', stacked=True)\n",
    "plt.title('Sentiment Over Time')\n",
    "plt.xlabel('Date')\n",
    "plt.ylabel('Percentage')\n",
    "plt.legend(title='Sentiment')\n",
    "plt.show()"
   ]
  },
  {
   "cell_type": "code",
   "execution_count": 25,
   "id": "0f50ddf1",
   "metadata": {},
   "outputs": [
    {
     "data": {
      "text/plain": [
       "<Figure size 720x432 with 0 Axes>"
      ]
     },
     "metadata": {},
     "output_type": "display_data"
    },
    {
     "data": {
      "image/png": "[encoded data removed]",
      "text/plain": [
       "<Figure size 432x288 with 1 Axes>"
      ]
     },
     "metadata": {
      "needs_background": "light"
     },
     "output_type": "display_data"
    }
   ],
   "source": [
    "# Frequency of Words\n",
    "from sklearn.feature_extraction.text import CountVectorizer\n",
    "\n",
    "corpus = processed_dataset['text of the tweet�'].tolist()\n",
    "\n",
    "# Initialize the CountVectorizer\n",
    "vectorizer = CountVectorizer()\n",
    "\n",
    "# Fit and transform the corpus to get the word counts\n",
    "word_counts = vectorizer.fit_transform(corpus)\n",
    "\n",
    "\n",
    "# Get the vocabulary (word to index mapping)\n",
    "vocabulary = vectorizer.vocabulary_\n",
    "\n",
    "# Calculate the sum of word occurrences\n",
    "word_occurrences = word_counts.sum(axis=0)\n",
    "\n",
    "# Get the feature names (words) sorted by frequency\n",
    "feature_names = [word for word, index in sorted(vocabulary.items(), key=lambda x: x[1])]\n",
    "word_frequencies = [word_occurrences[0, index] for word, index in sorted(vocabulary.items(), key=lambda x: x[1])]\n",
    "\n",
    "# Create a DataFrame to store the word frequencies\n",
    "word_freq_df = pd.DataFrame({\n",
    "    'Word': feature_names,\n",
    "    'Frequency': word_occurrences.flat\n",
    "})\n",
    "\n",
    "# Sort the DataFrame by frequency in descending order\n",
    "word_freq_df = word_freq_df.sort_values(by='Frequency', ascending=False)\n",
    "\n",
    "# Plot the top 20 most common words\n",
    "plt.figure(figsize=(10, 6))\n",
    "word_freq_df.head(20).plot(x='Word', y='Frequency', kind='bar', legend=False)\n",
    "plt.title('Most Common Words')\n",
    "plt.xlabel('Words')\n",
    "plt.ylabel('Frequency')\n",
    "plt.show()\n"
   ]
  },
  {
   "cell_type": "markdown",
   "id": "1663708a",
   "metadata": {},
   "source": [
    "## Feature extraction\n",
    "\n",
    "Convert the preprocessed text data into numerical features that machine learning models can understand. \n",
    "\n",
    "Common techniques include \n",
    "- bag-of-words representation, \n",
    "- TF-IDF (Term Frequency-Inverse Document Frequency), (USED FOR CLASSIFICATION)\n",
    "- word embeddings (e.g., Word2Vec, GloVe), \n",
    "- advanced methods like BERT embeddings. \n",
    "\n",
    "These features capture the essence of the text data and are used as input to the classification model."
   ]
  },
  {
   "cell_type": "code",
   "execution_count": 26,
   "id": "92e0901b",
   "metadata": {},
   "outputs": [
    {
     "data": {
      "text/plain": [
       "(<497152x334848 sparse matrix of type '<class 'numpy.float64'>'\n",
       " \twith 3715783 stored elements in Compressed Sparse Row format>,\n",
       " 212188     0\n",
       " 674330     0\n",
       " 752234     0\n",
       " 415739     0\n",
       " 138859     0\n",
       "           ..\n",
       " 1048567    4\n",
       " 1048568    4\n",
       " 1048569    4\n",
       " 1048570    4\n",
       " 1048571    4\n",
       " Name: polarity of tweet�, Length: 497152, dtype: int64)"
      ]
     },
     "execution_count": 26,
     "metadata": {},
     "output_type": "execute_result"
    }
   ],
   "source": [
    "# TF-IDF Vectorization\n",
    "\n",
    "from sklearn.feature_extraction.text import TfidfVectorizer\n",
    "\n",
    "# Initialize the TF-IDF vectorizer\n",
    "vectorizer = TfidfVectorizer()\n",
    "\n",
    "# Fit and transform the preprocessed text data\n",
    "X = vectorizer.fit_transform(processed_dataset['text of the tweet�'])\n",
    "\n",
    "# Get the corresponding sentiment labels\n",
    "y = processed_dataset['polarity of tweet�']\n",
    "\n",
    "#the features that we will use for classification after extraction (the polarity or the target variable and the text of the tweet)\n",
    "X,y"
   ]
  },
  {
   "cell_type": "code",
   "execution_count": 27,
   "id": "de2210f7",
   "metadata": {},
   "outputs": [
    {
     "name": "stdout",
     "output_type": "stream",
     "text": [
      "  (0, 328547)\t0.35214552524537673\n",
      "  (0, 233630)\t0.28040732359031606\n",
      "  (0, 317426)\t0.350992619158494\n",
      "  (0, 86409)\t0.2963507967002062\n",
      "  (0, 250056)\t0.289296862474458\n",
      "  (0, 68772)\t0.21890477611847647\n",
      "  (0, 28990)\t0.3320769038851158\n",
      "  (0, 76869)\t0.2551145614696961\n",
      "  (0, 10389)\t0.5285595172779896\n",
      "  (1, 137630)\t0.33050991524862183\n",
      "  (1, 41485)\t0.22472264387832713\n",
      "  (1, 301201)\t0.17675771464776643\n",
      "  (1, 324948)\t0.1514822379866312\n",
      "  (1, 137812)\t0.28211830901522067\n",
      "  (1, 69601)\t0.4843015010331684\n",
      "  (1, 271729)\t0.34389001518395346\n",
      "  (1, 222360)\t0.2343294531759564\n",
      "  (1, 139345)\t0.22381361253299184\n",
      "  (1, 233003)\t0.2749691064836992\n",
      "  (1, 323451)\t0.18012336634428514\n",
      "  (1, 301561)\t0.18741619887425265\n",
      "  (1, 117156)\t0.21940755767906436\n",
      "  (1, 276151)\t0.23948689742513826\n",
      "  (2, 51432)\t0.4352455403518387\n",
      "  (2, 318016)\t0.4881232276336109\n",
      "  :\t:\n",
      "  (497147, 104381)\t0.4452413865256448\n",
      "  (497148, 194735)\t0.5395012042255221\n",
      "  (497148, 46373)\t0.3383428353630192\n",
      "  (497148, 274059)\t0.3871379515538533\n",
      "  (497148, 214381)\t0.3801655198433433\n",
      "  (497148, 33635)\t0.38327972116205533\n",
      "  (497148, 332899)\t0.3454969856230379\n",
      "  (497148, 298412)\t0.1838190650013836\n",
      "  (497149, 291863)\t0.5684886429708631\n",
      "  (497149, 265240)\t0.5684886429708631\n",
      "  (497149, 324825)\t0.2834790057820768\n",
      "  (497149, 202476)\t0.24315321952672897\n",
      "  (497149, 174987)\t0.3421552187960613\n",
      "  (497149, 53251)\t0.21567970615084028\n",
      "  (497149, 260599)\t0.22487676924527214\n",
      "  (497150, 318700)\t0.5731027095417205\n",
      "  (497150, 292535)\t0.5418982057811527\n",
      "  (497150, 67653)\t0.554849244988176\n",
      "  (497150, 104711)\t0.2195795302344287\n",
      "  (497150, 140901)\t0.14773883756542996\n",
      "  (497151, 298273)\t0.522790750435417\n",
      "  (497151, 317117)\t0.40295813130699276\n",
      "  (497151, 63032)\t0.5467869947941524\n",
      "  (497151, 319457)\t0.4029344858949089\n",
      "  (497151, 41114)\t0.3209086444353514\n"
     ]
    },
    {
     "data": {
      "text/plain": [
       "(None,\n",
       " <497152x334848 sparse matrix of type '<class 'numpy.float64'>'\n",
       " \twith 3715783 stored elements in Compressed Sparse Row format>)"
      ]
     },
     "execution_count": 27,
     "metadata": {},
     "output_type": "execute_result"
    }
   ],
   "source": [
    "print(X), X"
   ]
  },
  {
   "cell_type": "code",
   "execution_count": 28,
   "id": "6f9bcb83",
   "metadata": {},
   "outputs": [
    {
     "name": "stdout",
     "output_type": "stream",
     "text": [
      "212188     0\n",
      "674330     0\n",
      "752234     0\n",
      "415739     0\n",
      "138859     0\n",
      "          ..\n",
      "1048567    4\n",
      "1048568    4\n",
      "1048569    4\n",
      "1048570    4\n",
      "1048571    4\n",
      "Name: polarity of tweet�, Length: 497152, dtype: int64\n"
     ]
    },
    {
     "data": {
      "text/plain": [
       "(212188     0\n",
       " 674330     0\n",
       " 752234     0\n",
       " 415739     0\n",
       " 138859     0\n",
       "           ..\n",
       " 1048567    4\n",
       " 1048568    4\n",
       " 1048569    4\n",
       " 1048570    4\n",
       " 1048571    4\n",
       " Name: polarity of tweet�, Length: 497152, dtype: int64,\n",
       " None)"
      ]
     },
     "execution_count": 28,
     "metadata": {},
     "output_type": "execute_result"
    }
   ],
   "source": [
    "y, print(y)"
   ]
  },
  {
   "cell_type": "markdown",
   "id": "ed09f70c",
   "metadata": {},
   "source": [
    "## Classification and Evaluation: \n",
    "\n",
    "#### Classification model on the preprocessed and transformed data. \n",
    "Select an appropriate algorithm such as\n",
    "- Naive Bayes, \n",
    "- Support Vector Machines (SVM), \n",
    "- Random Forest, or \n",
    "- Neural Networks. \n",
    "\n",
    "Split the dataset into training and testing sets, train the model on the training set, and evaluate its performance on the testing set. Use appropriate evaluation metrics like accuracy, precision, recall, and F1-score to assess the model's performance.\n",
    "\n",
    "#### Evaluation Techniques Used\n",
    "- Confusion matrix\n",
    "- accuracy-score\n",
    "- classification report (precision, recall, f1 score, support)"
   ]
  },
  {
   "cell_type": "markdown",
   "id": "4e4c2cdd",
   "metadata": {},
   "source": [
    "### Why Naive Bayes\n",
    "\n",
    "- Naive Bayes classification is a popular choice for text classification tasks, including sentiment analysis.\n",
    "- Naive Bayes classifiers are efficient because they can handle a large number of features without becoming computationally burdensome. \n",
    "- The training process is straightforward and doesn't involve complex calculations, making it faster compared to other classifiers. \n",
    "- This scalability makes Naive Bayes a preferred choice when working with large datasets or real-time applications where efficiency is crucial.\n"
   ]
  },
  {
   "cell_type": "code",
   "execution_count": 29,
   "id": "92775bd4",
   "metadata": {},
   "outputs": [],
   "source": [
    "# Dividing data into training and test data \n",
    "from sklearn.model_selection import train_test_split\n",
    "\n",
    "# Split the dataset into training and testing sets\n",
    "X_train, X_test, y_train, y_test = train_test_split(X, y, test_size=0.2, random_state=42)"
   ]
  },
  {
   "cell_type": "code",
   "execution_count": 30,
   "id": "3024caf5",
   "metadata": {},
   "outputs": [
    {
     "name": "stdout",
     "output_type": "stream",
     "text": [
      "  (0, 277643)\t0.48961896931908294\n",
      "  (0, 311601)\t0.4421904991940147\n",
      "  (0, 35829)\t0.44344476337809563\n",
      "  (0, 229596)\t0.3132201508131363\n",
      "  (0, 57211)\t0.4205888567806903\n",
      "  (0, 90138)\t0.30511591209656685\n",
      "  (1, 75498)\t0.5341501662307929\n",
      "  (1, 228828)\t0.45359534459233336\n",
      "  (1, 92074)\t0.44766744971353\n",
      "  (1, 232063)\t0.36026764543405104\n",
      "  (1, 21146)\t0.23386947249289494\n",
      "  (1, 257284)\t0.2691797912882678\n",
      "  (1, 298412)\t0.22711946459532567\n",
      "  (2, 94021)\t0.3183222386600917\n",
      "  (2, 209652)\t0.39194723034648\n",
      "  (2, 315692)\t0.3832429511179125\n",
      "  (2, 86643)\t0.4453424479432916\n",
      "  (2, 321277)\t0.3233763423785822\n",
      "  (2, 207378)\t0.26303472261938193\n",
      "  (2, 53398)\t0.20096143762599872\n",
      "  (2, 104914)\t0.24534638668791023\n",
      "  (2, 76016)\t0.2623603840780182\n",
      "  (2, 296273)\t0.1532424143631082\n",
      "  (2, 219847)\t0.14605911148131812\n",
      "  (2, 140901)\t0.10887570780124554\n",
      "  :\t:\n",
      "  (397716, 298962)\t0.6643454661001968\n",
      "  (397716, 10464)\t0.5177420806260608\n",
      "  (397716, 306548)\t0.4451245624439186\n",
      "  (397716, 13212)\t0.30405980255571413\n",
      "  (397717, 194155)\t0.7953735970762281\n",
      "  (397717, 324201)\t0.48526016396314375\n",
      "  (397717, 260538)\t0.363185096534102\n",
      "  (397718, 124238)\t0.772050596779474\n",
      "  (397718, 316090)\t0.428030603980873\n",
      "  (397718, 179647)\t0.4698166430302647\n",
      "  (397719, 264596)\t0.5267772130693055\n",
      "  (397719, 264679)\t0.4537115505649614\n",
      "  (397719, 92963)\t0.3856177584240263\n",
      "  (397719, 247159)\t0.3983733942428676\n",
      "  (397719, 99758)\t0.18336675355991613\n",
      "  (397719, 72798)\t0.19294446873252066\n",
      "  (397719, 318145)\t0.2622874390323552\n",
      "  (397719, 283979)\t0.26382483738759493\n",
      "  (397720, 221197)\t0.4717981328984355\n",
      "  (397720, 104166)\t0.42813216716915914\n",
      "  (397720, 16182)\t0.3866996686718159\n",
      "  (397720, 94714)\t0.3700606701049166\n",
      "  (397720, 179074)\t0.40448875508536014\n",
      "  (397720, 85081)\t0.30004477443371746\n",
      "  (397720, 116742)\t0.23235708782757727   (0, 90703)\t0.5146154741149698\n",
      "  (0, 247079)\t0.258071040868665\n",
      "  (0, 246924)\t0.24656880804799752\n",
      "  (0, 13836)\t0.2578315795825965\n",
      "  (0, 30670)\t0.26273962751445407\n",
      "  (0, 229115)\t0.6872152786919741\n",
      "  (1, 205961)\t0.5134057312116376\n",
      "  (1, 267922)\t0.5134057312116376\n",
      "  (1, 21081)\t0.4216939844556611\n",
      "  (1, 7813)\t0.31124330820487034\n",
      "  (1, 140849)\t0.3189398371781775\n",
      "  (1, 90098)\t0.2561949225026915\n",
      "  (1, 263220)\t0.1754207480153976\n",
      "  (2, 234995)\t0.4503713398904433\n",
      "  (2, 12798)\t0.4837732955152031\n",
      "  (2, 211944)\t0.46850168914230345\n",
      "  (2, 1264)\t0.36202871343394044\n",
      "  (2, 271109)\t0.3284312653068467\n",
      "  (2, 312210)\t0.3235789496255352\n",
      "  (3, 115545)\t0.5882373760359781\n",
      "  (3, 317688)\t0.384770169737767\n",
      "  (3, 299290)\t0.4778885857930724\n",
      "  (3, 85081)\t0.5268312874943691\n",
      "  (4, 138255)\t0.535391533113942\n",
      "  (4, 111108)\t0.2798863653840018\n",
      "  :\t:\n",
      "  (99427, 283156)\t0.2472089895367182\n",
      "  (99427, 275524)\t0.21076383748632355\n",
      "  (99427, 174987)\t0.14805023360524708\n",
      "  (99427, 300186)\t0.15388231534820335\n",
      "  (99428, 273650)\t0.667688224874913\n",
      "  (99428, 247806)\t0.48003024134561795\n",
      "  (99428, 104183)\t0.3875014150586091\n",
      "  (99428, 102469)\t0.21166430045602008\n",
      "  (99428, 140492)\t0.24620649764971692\n",
      "  (99428, 179041)\t0.2611257159150638\n",
      "  (99429, 229564)\t0.469993902211909\n",
      "  (99429, 319427)\t0.26662594165060877\n",
      "  (99429, 320008)\t0.24198681813696785\n",
      "  (99429, 173678)\t0.41226631696200305\n",
      "  (99429, 276027)\t0.29117738703993223\n",
      "  (99429, 275524)\t0.30269185764443474\n",
      "  (99429, 174987)\t0.2126247119483802\n",
      "  (99429, 300186)\t0.2210005494628408\n",
      "  (99429, 209379)\t0.24693088109160685\n",
      "  (99429, 102097)\t0.2144525541313677\n",
      "  (99429, 219847)\t0.23172715021442386\n",
      "  (99429, 72798)\t0.2199450620286503\n",
      "  (99430, 256484)\t0.7043620240587973\n",
      "  (99430, 81815)\t0.5578196300482958\n",
      "  (99430, 101373)\t0.43898906523577147 889926     4\n",
      "420864     0\n",
      "86095      0\n",
      "926275     4\n",
      "1017241    4\n",
      "          ..\n",
      "810598     4\n",
      "917258     4\n",
      "274021     0\n",
      "60643      0\n",
      "395703     0\n",
      "Name: polarity of tweet�, Length: 397721, dtype: int64 816212    4\n",
      "273391    0\n",
      "800748    4\n",
      "511952    0\n",
      "673993    0\n",
      "         ..\n",
      "817623    4\n",
      "934046    4\n",
      "979396    4\n",
      "744530    0\n",
      "976029    4\n",
      "Name: polarity of tweet�, Length: 99431, dtype: int64\n"
     ]
    }
   ],
   "source": [
    "print(X_train, X_test, y_train, y_test)"
   ]
  },
  {
   "cell_type": "code",
   "execution_count": 31,
   "id": "f4a61aad",
   "metadata": {},
   "outputs": [
    {
     "data": {
      "text/html": [
       "<style>#sk-container-id-1 {color: black;background-color: white;}#sk-container-id-1 pre{padding: 0;}#sk-container-id-1 div.sk-toggleable {background-color: white;}#sk-container-id-1 label.sk-toggleable__label {cursor: pointer;display: block;width: 100%;margin-bottom: 0;padding: 0.3em;box-sizing: border-box;text-align: center;}#sk-container-id-1 label.sk-toggleable__label-arrow:before {content: \"▸\";float: left;margin-right: 0.25em;color: #696969;}#sk-container-id-1 label.sk-toggleable__label-arrow:hover:before {color: black;}#sk-container-id-1 div.sk-estimator:hover label.sk-toggleable__label-arrow:before {color: black;}#sk-container-id-1 div.sk-toggleable__content {max-height: 0;max-width: 0;overflow: hidden;text-align: left;background-color: #f0f8ff;}#sk-container-id-1 div.sk-toggleable__content pre {margin: 0.2em;color: black;border-radius: 0.25em;background-color: #f0f8ff;}#sk-container-id-1 input.sk-toggleable__control:checked~div.sk-toggleable__content {max-height: 200px;max-width: 100%;overflow: auto;}#sk-container-id-1 input.sk-toggleable__control:checked~label.sk-toggleable__label-arrow:before {content: \"▾\";}#sk-container-id-1 div.sk-estimator input.sk-toggleable__control:checked~label.sk-toggleable__label {background-color: #d4ebff;}#sk-container-id-1 div.sk-label input.sk-toggleable__control:checked~label.sk-toggleable__label {background-color: #d4ebff;}#sk-container-id-1 input.sk-hidden--visually {border: 0;clip: rect(1px 1px 1px 1px);clip: rect(1px, 1px, 1px, 1px);height: 1px;margin: -1px;overflow: hidden;padding: 0;position: absolute;width: 1px;}#sk-container-id-1 div.sk-estimator {font-family: monospace;background-color: #f0f8ff;border: 1px dotted black;border-radius: 0.25em;box-sizing: border-box;margin-bottom: 0.5em;}#sk-container-id-1 div.sk-estimator:hover {background-color: #d4ebff;}#sk-container-id-1 div.sk-parallel-item::after {content: \"\";width: 100%;border-bottom: 1px solid gray;flex-grow: 1;}#sk-container-id-1 div.sk-label:hover label.sk-toggleable__label {background-color: #d4ebff;}#sk-container-id-1 div.sk-serial::before {content: \"\";position: absolute;border-left: 1px solid gray;box-sizing: border-box;top: 0;bottom: 0;left: 50%;z-index: 0;}#sk-container-id-1 div.sk-serial {display: flex;flex-direction: column;align-items: center;background-color: white;padding-right: 0.2em;padding-left: 0.2em;position: relative;}#sk-container-id-1 div.sk-item {position: relative;z-index: 1;}#sk-container-id-1 div.sk-parallel {display: flex;align-items: stretch;justify-content: center;background-color: white;position: relative;}#sk-container-id-1 div.sk-item::before, #sk-container-id-1 div.sk-parallel-item::before {content: \"\";position: absolute;border-left: 1px solid gray;box-sizing: border-box;top: 0;bottom: 0;left: 50%;z-index: -1;}#sk-container-id-1 div.sk-parallel-item {display: flex;flex-direction: column;z-index: 1;position: relative;background-color: white;}#sk-container-id-1 div.sk-parallel-item:first-child::after {align-self: flex-end;width: 50%;}#sk-container-id-1 div.sk-parallel-item:last-child::after {align-self: flex-start;width: 50%;}#sk-container-id-1 div.sk-parallel-item:only-child::after {width: 0;}#sk-container-id-1 div.sk-dashed-wrapped {border: 1px dashed gray;margin: 0 0.4em 0.5em 0.4em;box-sizing: border-box;padding-bottom: 0.4em;background-color: white;}#sk-container-id-1 div.sk-label label {font-family: monospace;font-weight: bold;display: inline-block;line-height: 1.2em;}#sk-container-id-1 div.sk-label-container {text-align: center;}#sk-container-id-1 div.sk-container {/* jupyter's `normalize.less` sets `[hidden] { display: none; }` but bootstrap.min.css set `[hidden] { display: none !important; }` so we also need the `!important` here to be able to override the default hidden behavior on the sphinx rendered scikit-learn.org. See: https://github.com/scikit-learn/scikit-learn/issues/21755 */display: inline-block !important;position: relative;}#sk-container-id-1 div.sk-text-repr-fallback {display: none;}</style><div id=\"sk-container-id-1\" class=\"sk-top-container\"><div class=\"sk-text-repr-fallback\"><pre>MultinomialNB()</pre><b>In a Jupyter environment, please rerun this cell to show the HTML representation or trust the notebook. <br />On GitHub, the HTML representation is unable to render, please try loading this page with nbviewer.org.</b></div><div class=\"sk-container\" hidden><div class=\"sk-item\"><div class=\"sk-estimator sk-toggleable\"><input class=\"sk-toggleable__control sk-hidden--visually\" id=\"sk-estimator-id-1\" type=\"checkbox\" checked><label for=\"sk-estimator-id-1\" class=\"sk-toggleable__label sk-toggleable__label-arrow\">MultinomialNB</label><div class=\"sk-toggleable__content\"><pre>MultinomialNB()</pre></div></div></div></div></div>"
      ],
      "text/plain": [
       "MultinomialNB()"
      ]
     },
     "execution_count": 31,
     "metadata": {},
     "output_type": "execute_result"
    }
   ],
   "source": [
    "# using Naive Bayes Classification Algorithm\n",
    "#Create a Multinomial Naive Bayes model\n",
    "\n",
    "from sklearn.naive_bayes import MultinomialNB\n",
    "nb = MultinomialNB()\n",
    "\n",
    "# Train the model\n",
    "nb.fit(X_train, y_train)"
   ]
  },
  {
   "cell_type": "code",
   "execution_count": 32,
   "id": "f78141b3",
   "metadata": {},
   "outputs": [],
   "source": [
    "# Make class anf probability predictions\n",
    "y_pred_class = nb.predict(X_test)\n",
    "y_pred_prob = nb.predict_proba(X_test)[:, 1]"
   ]
  },
  {
   "cell_type": "code",
   "execution_count": 33,
   "id": "b9b25bf4",
   "metadata": {
    "scrolled": true
   },
   "outputs": [
    {
     "name": "stdout",
     "output_type": "stream",
     "text": [
      "[0 0 4 ... 0 0 4]\n"
     ]
    }
   ],
   "source": [
    "print(y_pred_class)"
   ]
  },
  {
   "cell_type": "code",
   "execution_count": 34,
   "id": "26394ce5",
   "metadata": {},
   "outputs": [
    {
     "name": "stdout",
     "output_type": "stream",
     "text": [
      "[0.33113777 0.3986875  0.75235374 ... 0.45954263 0.3717869  0.90768778]\n"
     ]
    }
   ],
   "source": [
    "print(y_pred_prob)"
   ]
  },
  {
   "cell_type": "code",
   "execution_count": 35,
   "id": "ea58252c",
   "metadata": {},
   "outputs": [
    {
     "name": "stdout",
     "output_type": "stream",
     "text": [
      "0.7662298478341765\n"
     ]
    }
   ],
   "source": [
    "# Checking for accuracy of Naive Bayes Model\n",
    "from sklearn import metrics\n",
    "print(metrics.accuracy_score(y_test, y_pred_class))"
   ]
  },
  {
   "cell_type": "code",
   "execution_count": 36,
   "id": "2e55ac9a",
   "metadata": {},
   "outputs": [
    {
     "data": {
      "image/png": "[encoded data removed]",
      "text/plain": [
       "<Figure size 432x288 with 2 Axes>"
      ]
     },
     "metadata": {
      "needs_background": "light"
     },
     "output_type": "display_data"
    }
   ],
   "source": [
    "from sklearn.metrics import confusion_matrix\n",
    "\n",
    "# Compute the confusion matrix\n",
    "confusion_mtx = confusion_matrix(y_test, y_pred_class)\n",
    "\n",
    "# Define the class labels\n",
    "classes = ['0', '4']\n",
    "\n",
    "# Plot the confusion matrix\n",
    "plt.imshow(confusion_mtx, interpolation='nearest', cmap=plt.cm.Blues)\n",
    "plt.title('Confusion Matrix')\n",
    "plt.colorbar()\n",
    "ticks = np.arange(len(classes))\n",
    "plt.xticks(ticks, classes, rotation=45)\n",
    "plt.yticks(ticks, classes)\n",
    "plt.xlabel('Predicted Label')\n",
    "plt.ylabel('True Label')\n",
    "\n",
    "# Add labels to each cell in the confusion matrix\n",
    "thresh = confusion_mtx.max() / 2.\n",
    "for i in range(len(classes)):\n",
    "    for j in range(len(classes)):\n",
    "        plt.text(j, i, format(confusion_mtx[i, j], 'd'),\n",
    "                 horizontalalignment=\"center\",\n",
    "                 color=\"white\" if confusion_mtx[i, j] > thresh else \"black\")\n",
    "\n",
    "plt.tight_layout()\n",
    "plt.show()\n"
   ]
  },
  {
   "cell_type": "code",
   "execution_count": 37,
   "id": "b7be72dd",
   "metadata": {},
   "outputs": [],
   "source": [
    "from sklearn.metrics import classification_report\n",
    "\n",
    "# Generate the classification report\n",
    "classification_rep = classification_report(y_test, y_pred_class)"
   ]
  },
  {
   "cell_type": "code",
   "execution_count": 38,
   "id": "60498ab2",
   "metadata": {
    "scrolled": true
   },
   "outputs": [
    {
     "data": {
      "text/plain": [
       "'              precision    recall  f1-score   support\\n\\n           0       0.74      0.82      0.78     49666\\n           4       0.80      0.72      0.75     49765\\n\\n    accuracy                           0.77     99431\\n   macro avg       0.77      0.77      0.77     99431\\nweighted avg       0.77      0.77      0.77     99431\\n'"
      ]
     },
     "execution_count": 38,
     "metadata": {},
     "output_type": "execute_result"
    }
   ],
   "source": [
    "classification_rep"
   ]
  },
  {
   "cell_type": "code",
   "execution_count": 39,
   "id": "a276f413",
   "metadata": {},
   "outputs": [
    {
     "name": "stdout",
     "output_type": "stream",
     "text": [
      "Classification Report:\n",
      "              precision    recall  f1-score   support\n",
      "\n",
      "           0       0.74      0.82      0.78     49666\n",
      "           4       0.80      0.72      0.75     49765\n",
      "\n",
      "    accuracy                           0.77     99431\n",
      "   macro avg       0.77      0.77      0.77     99431\n",
      "weighted avg       0.77      0.77      0.77     99431\n",
      "\n"
     ]
    },
    {
     "data": {
      "image/png": "[encoded data removed]",
      "text/plain": [
       "<Figure size 576x432 with 1 Axes>"
      ]
     },
     "metadata": {
      "needs_background": "light"
     },
     "output_type": "display_data"
    }
   ],
   "source": [
    "#Making the classification report visually attractive \n",
    "import seaborn as sns\n",
    "\n",
    "# Generate the classification report\n",
    "classification_rep = classification_report(y_test, y_pred_class)\n",
    "\n",
    "# Print the classification report\n",
    "print(\"Classification Report:\")\n",
    "print(classification_rep)\n",
    "\n",
    "# Convert the classification report to a dictionary\n",
    "report_dict = classification_report(y_test, y_pred_class, output_dict=True)\n",
    "\n",
    "# Convert the dictionary to a DataFrame for visualization\n",
    "report_df = pd.DataFrame(report_dict).transpose()\n",
    "\n",
    "# Plot a heatmap of the classification report\n",
    "plt.figure(figsize=(8, 6))\n",
    "sns.heatmap(report_df.iloc[:-1, :].astype(float), annot=True, cmap='Blues', fmt=\".2f\", cbar=False)\n",
    "plt.title('Classification Report Heatmap')\n",
    "plt.xlabel('Metrics')\n",
    "plt.ylabel('Sentiment')\n",
    "plt.show()"
   ]
  },
  {
   "cell_type": "markdown",
   "id": "d6a8dff7",
   "metadata": {},
   "source": [
    "## Conclusion: \n",
    "\n",
    "Summarize the findings of your analysis and draw conclusions about the sentiment patterns in the Twitter data. \n",
    "\n",
    "Discuss the performance of the classification model and any insights gained from the EDA. \n",
    "\n",
    "You may also provide recommendations for further improvements or potential applications based on the analysis results."
   ]
  },
  {
   "cell_type": "code",
   "execution_count": 61,
   "id": "1323c762",
   "metadata": {},
   "outputs": [
    {
     "name": "stdout",
     "output_type": "stream",
     "text": [
      "                                                   Tweet  Predicted Polarity  \\\n",
      "0        (0, 90703)\\t0.5146154741149698\\n  (0, 247079...                   0   \n",
      "1        (0, 90703)\\t0.5146154741149698\\n  (0, 247079...                   0   \n",
      "2        (0, 90703)\\t0.5146154741149698\\n  (0, 247079...                   4   \n",
      "3        (0, 90703)\\t0.5146154741149698\\n  (0, 247079...                   0   \n",
      "4        (0, 90703)\\t0.5146154741149698\\n  (0, 247079...                   0   \n",
      "...                                                  ...                 ...   \n",
      "99426    (0, 90703)\\t0.5146154741149698\\n  (0, 247079...                   4   \n",
      "99427    (0, 90703)\\t0.5146154741149698\\n  (0, 247079...                   0   \n",
      "99428    (0, 90703)\\t0.5146154741149698\\n  (0, 247079...                   0   \n",
      "99429    (0, 90703)\\t0.5146154741149698\\n  (0, 247079...                   0   \n",
      "99430    (0, 90703)\\t0.5146154741149698\\n  (0, 247079...                   4   \n",
      "\n",
      "       Predicted Probability Sentiment  \n",
      "0                   0.331138  Positive  \n",
      "1                   0.398687  Positive  \n",
      "2                   0.752354  Negative  \n",
      "3                   0.194119  Positive  \n",
      "4                   0.498238  Positive  \n",
      "...                      ...       ...  \n",
      "99426               0.557802  Negative  \n",
      "99427               0.338439  Positive  \n",
      "99428               0.459543  Positive  \n",
      "99429               0.371787  Positive  \n",
      "99430               0.907688  Negative  \n",
      "\n",
      "[99431 rows x 4 columns]\n"
     ]
    }
   ],
   "source": [
    "#Understanding the results according to what the tweets are conveying in terms of sentiment \n",
    "# using: y_pred_prob\n",
    "\n",
    "classify_sentiment = []\n",
    "for prob in y_pred_prob:\n",
    "    if prob < 0.5:\n",
    "        classify_sentiment.append('Positive')\n",
    "    elif prob > 0.5:  \n",
    "        classify_sentiment.append('Negative')\n",
    "    else:\n",
    "        classify_sentiment.append('Neutral')\n",
    "        \n",
    "#Printing the classification result as a dataframe\n",
    "results = pd.DataFrame({'Tweet': X_test, 'Predicted Polarity': y_pred_class, 'Predicted Probability': y_pred_prob, 'Sentiment': classify_sentiment})\n",
    "print(results)"
   ]
  },
  {
   "cell_type": "code",
   "execution_count": 62,
   "id": "f4754c05",
   "metadata": {
    "scrolled": true
   },
   "outputs": [
    {
     "data": {
      "text/html": [
       "<div>\n",
       "<style scoped>\n",
       "    .dataframe tbody tr th:only-of-type {\n",
       "        vertical-align: middle;\n",
       "    }\n",
       "\n",
       "    .dataframe tbody tr th {\n",
       "        vertical-align: top;\n",
       "    }\n",
       "\n",
       "    .dataframe thead th {\n",
       "        text-align: right;\n",
       "    }\n",
       "</style>\n",
       "<table border=\"1\" class=\"dataframe\">\n",
       "  <thead>\n",
       "    <tr style=\"text-align: right;\">\n",
       "      <th></th>\n",
       "      <th>Tweet</th>\n",
       "      <th>Predicted Polarity</th>\n",
       "      <th>Predicted Probability</th>\n",
       "      <th>Sentiment</th>\n",
       "    </tr>\n",
       "  </thead>\n",
       "  <tbody>\n",
       "    <tr>\n",
       "      <th>0</th>\n",
       "      <td>(0, 90703)\\t0.5146154741149698\\n  (0, 247079...</td>\n",
       "      <td>0</td>\n",
       "      <td>0.331138</td>\n",
       "      <td>Positive</td>\n",
       "    </tr>\n",
       "    <tr>\n",
       "      <th>1</th>\n",
       "      <td>(0, 90703)\\t0.5146154741149698\\n  (0, 247079...</td>\n",
       "      <td>0</td>\n",
       "      <td>0.398687</td>\n",
       "      <td>Positive</td>\n",
       "    </tr>\n",
       "    <tr>\n",
       "      <th>2</th>\n",
       "      <td>(0, 90703)\\t0.5146154741149698\\n  (0, 247079...</td>\n",
       "      <td>4</td>\n",
       "      <td>0.752354</td>\n",
       "      <td>Negative</td>\n",
       "    </tr>\n",
       "    <tr>\n",
       "      <th>3</th>\n",
       "      <td>(0, 90703)\\t0.5146154741149698\\n  (0, 247079...</td>\n",
       "      <td>0</td>\n",
       "      <td>0.194119</td>\n",
       "      <td>Positive</td>\n",
       "    </tr>\n",
       "    <tr>\n",
       "      <th>4</th>\n",
       "      <td>(0, 90703)\\t0.5146154741149698\\n  (0, 247079...</td>\n",
       "      <td>0</td>\n",
       "      <td>0.498238</td>\n",
       "      <td>Positive</td>\n",
       "    </tr>\n",
       "    <tr>\n",
       "      <th>...</th>\n",
       "      <td>...</td>\n",
       "      <td>...</td>\n",
       "      <td>...</td>\n",
       "      <td>...</td>\n",
       "    </tr>\n",
       "    <tr>\n",
       "      <th>99426</th>\n",
       "      <td>(0, 90703)\\t0.5146154741149698\\n  (0, 247079...</td>\n",
       "      <td>4</td>\n",
       "      <td>0.557802</td>\n",
       "      <td>Negative</td>\n",
       "    </tr>\n",
       "    <tr>\n",
       "      <th>99427</th>\n",
       "      <td>(0, 90703)\\t0.5146154741149698\\n  (0, 247079...</td>\n",
       "      <td>0</td>\n",
       "      <td>0.338439</td>\n",
       "      <td>Positive</td>\n",
       "    </tr>\n",
       "    <tr>\n",
       "      <th>99428</th>\n",
       "      <td>(0, 90703)\\t0.5146154741149698\\n  (0, 247079...</td>\n",
       "      <td>0</td>\n",
       "      <td>0.459543</td>\n",
       "      <td>Positive</td>\n",
       "    </tr>\n",
       "    <tr>\n",
       "      <th>99429</th>\n",
       "      <td>(0, 90703)\\t0.5146154741149698\\n  (0, 247079...</td>\n",
       "      <td>0</td>\n",
       "      <td>0.371787</td>\n",
       "      <td>Positive</td>\n",
       "    </tr>\n",
       "    <tr>\n",
       "      <th>99430</th>\n",
       "      <td>(0, 90703)\\t0.5146154741149698\\n  (0, 247079...</td>\n",
       "      <td>4</td>\n",
       "      <td>0.907688</td>\n",
       "      <td>Negative</td>\n",
       "    </tr>\n",
       "  </tbody>\n",
       "</table>\n",
       "<p>99431 rows × 4 columns</p>\n",
       "</div>"
      ],
      "text/plain": [
       "                                                   Tweet  Predicted Polarity  \\\n",
       "0        (0, 90703)\\t0.5146154741149698\\n  (0, 247079...                   0   \n",
       "1        (0, 90703)\\t0.5146154741149698\\n  (0, 247079...                   0   \n",
       "2        (0, 90703)\\t0.5146154741149698\\n  (0, 247079...                   4   \n",
       "3        (0, 90703)\\t0.5146154741149698\\n  (0, 247079...                   0   \n",
       "4        (0, 90703)\\t0.5146154741149698\\n  (0, 247079...                   0   \n",
       "...                                                  ...                 ...   \n",
       "99426    (0, 90703)\\t0.5146154741149698\\n  (0, 247079...                   4   \n",
       "99427    (0, 90703)\\t0.5146154741149698\\n  (0, 247079...                   0   \n",
       "99428    (0, 90703)\\t0.5146154741149698\\n  (0, 247079...                   0   \n",
       "99429    (0, 90703)\\t0.5146154741149698\\n  (0, 247079...                   0   \n",
       "99430    (0, 90703)\\t0.5146154741149698\\n  (0, 247079...                   4   \n",
       "\n",
       "       Predicted Probability Sentiment  \n",
       "0                   0.331138  Positive  \n",
       "1                   0.398687  Positive  \n",
       "2                   0.752354  Negative  \n",
       "3                   0.194119  Positive  \n",
       "4                   0.498238  Positive  \n",
       "...                      ...       ...  \n",
       "99426               0.557802  Negative  \n",
       "99427               0.338439  Positive  \n",
       "99428               0.459543  Positive  \n",
       "99429               0.371787  Positive  \n",
       "99430               0.907688  Negative  \n",
       "\n",
       "[99431 rows x 4 columns]"
      ]
     },
     "metadata": {},
     "output_type": "display_data"
    }
   ],
   "source": [
    "from IPython.display import display\n",
    "\n",
    "#displaying the dataframe produced above in a more readable format\n",
    "display(results)"
   ]
  },
  {
   "cell_type": "code",
   "execution_count": 63,
   "id": "e4a3a558",
   "metadata": {},
   "outputs": [
    {
     "data": {
      "text/plain": [
       "2"
      ]
     },
     "execution_count": 63,
     "metadata": {},
     "output_type": "execute_result"
    }
   ],
   "source": [
    "unique_values = results['Sentiment'].nunique()\n",
    "unique_values\n",
    "\n",
    "#Therefore we observe that all values are either less than 0.5 or more than 0.5, no tweets have thus been termed as 'neutral'"
   ]
  },
  {
   "cell_type": "markdown",
   "id": "1e67fdec",
   "metadata": {},
   "source": [
    "#### To resolve above issue we could provide a tentative range say from 0.45 to 0.55 to refer to neutral sentiment values \n",
    "\n",
    "In this case we will be using the ROC curve metric to determine a threshold value"
   ]
  },
  {
   "cell_type": "code",
   "execution_count": 52,
   "id": "cd76a5d1",
   "metadata": {},
   "outputs": [
    {
     "data": {
      "image/png": "[encoded data removed]",
      "text/plain": [
       "<Figure size 432x288 with 1 Axes>"
      ]
     },
     "metadata": {
      "needs_background": "light"
     },
     "output_type": "display_data"
    }
   ],
   "source": [
    "from sklearn.metrics import roc_curve, auc\n",
    "\n",
    "# Convert y_true to {0, 1}\n",
    "y_test_updated = np.where(y_test == 4, 1, 0)\n",
    "\n",
    "# Computing ROC and AUC\n",
    "fpr, tpr, thresholds = roc_curve(y_test_updated, y_pred_prob)\n",
    "roc_auc = auc(fpr, tpr)\n",
    "\n",
    "#Plotting the roc curve\n",
    "plt.plot(fpr, tpr, label = 'ROC curve (area = %0.2f)' %roc_auc)\n",
    "plt.plot([0,1],[0,1],'k--')\n",
    "plt.xlim([0.0,1.0])\n",
    "plt.ylim([0.0,1.05])\n",
    "plt.xlabel('False Positive Rate')\n",
    "plt.ylabel('True Positve Rate')\n",
    "plt.title('Receiver Operating Characteristic')\n",
    "plt.show()"
   ]
  },
  {
   "cell_type": "code",
   "execution_count": 54,
   "id": "5c443c12",
   "metadata": {},
   "outputs": [
    {
     "name": "stdout",
     "output_type": "stream",
     "text": [
      "Optimal Threshold: 0.468492265657471\n"
     ]
    }
   ],
   "source": [
    "#Finding the optimal threshold to use while assigning a sentiment to a polarity\n",
    "optimal_idx = (tpr- fpr).argmax()\n",
    "optimal_threshold = thresholds[optimal_idx]\n",
    "\n",
    "print(\"Optimal Threshold:\", optimal_threshold)"
   ]
  },
  {
   "cell_type": "code",
   "execution_count": 56,
   "id": "8c5f1a69",
   "metadata": {},
   "outputs": [
    {
     "name": "stdout",
     "output_type": "stream",
     "text": [
      "                                                   Tweet  Predicted Polarity  \\\n",
      "0        (0, 90703)\\t0.5146154741149698\\n  (0, 247079...                   0   \n",
      "1        (0, 90703)\\t0.5146154741149698\\n  (0, 247079...                   0   \n",
      "2        (0, 90703)\\t0.5146154741149698\\n  (0, 247079...                   4   \n",
      "3        (0, 90703)\\t0.5146154741149698\\n  (0, 247079...                   0   \n",
      "4        (0, 90703)\\t0.5146154741149698\\n  (0, 247079...                   0   \n",
      "...                                                  ...                 ...   \n",
      "99426    (0, 90703)\\t0.5146154741149698\\n  (0, 247079...                   4   \n",
      "99427    (0, 90703)\\t0.5146154741149698\\n  (0, 247079...                   0   \n",
      "99428    (0, 90703)\\t0.5146154741149698\\n  (0, 247079...                   0   \n",
      "99429    (0, 90703)\\t0.5146154741149698\\n  (0, 247079...                   0   \n",
      "99430    (0, 90703)\\t0.5146154741149698\\n  (0, 247079...                   4   \n",
      "\n",
      "       Predicted Probability Sentiment  \n",
      "0                   0.331138  Positive  \n",
      "1                   0.398687  Positive  \n",
      "2                   0.752354  Negative  \n",
      "3                   0.194119  Positive  \n",
      "4                   0.498238  Negative  \n",
      "...                      ...       ...  \n",
      "99426               0.557802  Negative  \n",
      "99427               0.338439  Positive  \n",
      "99428               0.459543  Positive  \n",
      "99429               0.371787  Positive  \n",
      "99430               0.907688  Negative  \n",
      "\n",
      "[99431 rows x 4 columns]\n"
     ]
    }
   ],
   "source": [
    "#Understanding the results according to what the tweets are conveying in terms of sentiment \n",
    "# using: y_pred_prob and optimal_threshold \n",
    "\n",
    "classify_sentiment_updated = []\n",
    "for prob in y_pred_prob:\n",
    "    if prob < optimal_threshold:\n",
    "        classify_sentiment_updated.append('Positive')\n",
    "    elif prob > optimal_threshold:  \n",
    "        classify_sentiment_updated.append('Negative')\n",
    "    else:\n",
    "        classify_sentiment_updated.append('Neutral')\n",
    "        \n",
    "#Printing the classification result as a dataframe\n",
    "results_updated = pd.DataFrame({'Tweet': X_test, 'Predicted Polarity': y_pred_class, 'Predicted Probability': y_pred_prob, 'Sentiment': classify_sentiment_updated})\n",
    "print(results_updated)"
   ]
  },
  {
   "cell_type": "code",
   "execution_count": 58,
   "id": "24ae8ce7",
   "metadata": {},
   "outputs": [
    {
     "data": {
      "text/html": [
       "<div>\n",
       "<style scoped>\n",
       "    .dataframe tbody tr th:only-of-type {\n",
       "        vertical-align: middle;\n",
       "    }\n",
       "\n",
       "    .dataframe tbody tr th {\n",
       "        vertical-align: top;\n",
       "    }\n",
       "\n",
       "    .dataframe thead th {\n",
       "        text-align: right;\n",
       "    }\n",
       "</style>\n",
       "<table border=\"1\" class=\"dataframe\">\n",
       "  <thead>\n",
       "    <tr style=\"text-align: right;\">\n",
       "      <th></th>\n",
       "      <th>Tweet</th>\n",
       "      <th>Predicted Polarity</th>\n",
       "      <th>Predicted Probability</th>\n",
       "      <th>Sentiment</th>\n",
       "    </tr>\n",
       "  </thead>\n",
       "  <tbody>\n",
       "    <tr>\n",
       "      <th>0</th>\n",
       "      <td>(0, 90703)\\t0.5146154741149698\\n  (0, 247079...</td>\n",
       "      <td>0</td>\n",
       "      <td>0.331138</td>\n",
       "      <td>Positive</td>\n",
       "    </tr>\n",
       "    <tr>\n",
       "      <th>1</th>\n",
       "      <td>(0, 90703)\\t0.5146154741149698\\n  (0, 247079...</td>\n",
       "      <td>0</td>\n",
       "      <td>0.398687</td>\n",
       "      <td>Positive</td>\n",
       "    </tr>\n",
       "    <tr>\n",
       "      <th>2</th>\n",
       "      <td>(0, 90703)\\t0.5146154741149698\\n  (0, 247079...</td>\n",
       "      <td>4</td>\n",
       "      <td>0.752354</td>\n",
       "      <td>Negative</td>\n",
       "    </tr>\n",
       "    <tr>\n",
       "      <th>3</th>\n",
       "      <td>(0, 90703)\\t0.5146154741149698\\n  (0, 247079...</td>\n",
       "      <td>0</td>\n",
       "      <td>0.194119</td>\n",
       "      <td>Positive</td>\n",
       "    </tr>\n",
       "    <tr>\n",
       "      <th>4</th>\n",
       "      <td>(0, 90703)\\t0.5146154741149698\\n  (0, 247079...</td>\n",
       "      <td>0</td>\n",
       "      <td>0.498238</td>\n",
       "      <td>Negative</td>\n",
       "    </tr>\n",
       "    <tr>\n",
       "      <th>...</th>\n",
       "      <td>...</td>\n",
       "      <td>...</td>\n",
       "      <td>...</td>\n",
       "      <td>...</td>\n",
       "    </tr>\n",
       "    <tr>\n",
       "      <th>99426</th>\n",
       "      <td>(0, 90703)\\t0.5146154741149698\\n  (0, 247079...</td>\n",
       "      <td>4</td>\n",
       "      <td>0.557802</td>\n",
       "      <td>Negative</td>\n",
       "    </tr>\n",
       "    <tr>\n",
       "      <th>99427</th>\n",
       "      <td>(0, 90703)\\t0.5146154741149698\\n  (0, 247079...</td>\n",
       "      <td>0</td>\n",
       "      <td>0.338439</td>\n",
       "      <td>Positive</td>\n",
       "    </tr>\n",
       "    <tr>\n",
       "      <th>99428</th>\n",
       "      <td>(0, 90703)\\t0.5146154741149698\\n  (0, 247079...</td>\n",
       "      <td>0</td>\n",
       "      <td>0.459543</td>\n",
       "      <td>Positive</td>\n",
       "    </tr>\n",
       "    <tr>\n",
       "      <th>99429</th>\n",
       "      <td>(0, 90703)\\t0.5146154741149698\\n  (0, 247079...</td>\n",
       "      <td>0</td>\n",
       "      <td>0.371787</td>\n",
       "      <td>Positive</td>\n",
       "    </tr>\n",
       "    <tr>\n",
       "      <th>99430</th>\n",
       "      <td>(0, 90703)\\t0.5146154741149698\\n  (0, 247079...</td>\n",
       "      <td>4</td>\n",
       "      <td>0.907688</td>\n",
       "      <td>Negative</td>\n",
       "    </tr>\n",
       "  </tbody>\n",
       "</table>\n",
       "<p>99431 rows × 4 columns</p>\n",
       "</div>"
      ],
      "text/plain": [
       "                                                   Tweet  Predicted Polarity  \\\n",
       "0        (0, 90703)\\t0.5146154741149698\\n  (0, 247079...                   0   \n",
       "1        (0, 90703)\\t0.5146154741149698\\n  (0, 247079...                   0   \n",
       "2        (0, 90703)\\t0.5146154741149698\\n  (0, 247079...                   4   \n",
       "3        (0, 90703)\\t0.5146154741149698\\n  (0, 247079...                   0   \n",
       "4        (0, 90703)\\t0.5146154741149698\\n  (0, 247079...                   0   \n",
       "...                                                  ...                 ...   \n",
       "99426    (0, 90703)\\t0.5146154741149698\\n  (0, 247079...                   4   \n",
       "99427    (0, 90703)\\t0.5146154741149698\\n  (0, 247079...                   0   \n",
       "99428    (0, 90703)\\t0.5146154741149698\\n  (0, 247079...                   0   \n",
       "99429    (0, 90703)\\t0.5146154741149698\\n  (0, 247079...                   0   \n",
       "99430    (0, 90703)\\t0.5146154741149698\\n  (0, 247079...                   4   \n",
       "\n",
       "       Predicted Probability Sentiment  \n",
       "0                   0.331138  Positive  \n",
       "1                   0.398687  Positive  \n",
       "2                   0.752354  Negative  \n",
       "3                   0.194119  Positive  \n",
       "4                   0.498238  Negative  \n",
       "...                      ...       ...  \n",
       "99426               0.557802  Negative  \n",
       "99427               0.338439  Positive  \n",
       "99428               0.459543  Positive  \n",
       "99429               0.371787  Positive  \n",
       "99430               0.907688  Negative  \n",
       "\n",
       "[99431 rows x 4 columns]"
      ]
     },
     "metadata": {},
     "output_type": "display_data"
    }
   ],
   "source": [
    "display(results_updated)"
   ]
  },
  {
   "cell_type": "code",
   "execution_count": 57,
   "id": "c8096d62",
   "metadata": {},
   "outputs": [
    {
     "data": {
      "text/plain": [
       "3"
      ]
     },
     "execution_count": 57,
     "metadata": {},
     "output_type": "execute_result"
    }
   ],
   "source": [
    "unique_values = results_updated['Sentiment'].nunique()\n",
    "unique_values"
   ]
  },
  {
   "cell_type": "markdown",
   "id": "de3a8a0a",
   "metadata": {},
   "source": [
    "#### Issue resolved now we have separated our data into 3 classes, positive, negative, and neutral"
   ]
  },
  {
   "cell_type": "code",
   "execution_count": 64,
   "id": "1bbbe944",
   "metadata": {},
   "outputs": [],
   "source": [
    "#exporting the file as a csv \n",
    "results.to_csv('Twiiter_Sentiment_result.csv', index = False)\n",
    "results_updated.to_csv('Twitter_Sentiment_Results_Updated.csv', index = False)"
   ]
  },
  {
   "cell_type": "markdown",
   "id": "74c7773c",
   "metadata": {},
   "source": [
    "## Summary\n",
    "\n",
    "The sentiment analysis was performed on a dataset of tweets with associated sentiment labels. The dataset was preprocessed by cleaning the text data and performing feature extraction. A Naive Bayes classifier was trained on the preprocessed data and achieved an accuracy of 76%. \n",
    "\n",
    "The classification report provides detailed metrics for each sentiment class. The confusion matrix visualizes the classification results, showing the counts of correctly and incorrectly classified samples. Overall, the classification model performed reasonably well, but there is room for improvement.\n",
    "\n",
    "## Recommendations\n",
    "- Increasing the size and diversity of the dataset may increase the model's performance.\n",
    "- Experimenting with alternative preprocessing approaches or feature extraction methods may yield better results.\n",
    "- Experimenting with different categorization techniques, such as random forest or deep learning models, might be advantageous.\n",
    "- Fine-tuning model hyperparameters with approaches such as grid search or random search may improve model performance.\n",
    "- Investigating ensemble approaches, such as mixing many classifiers, may improve the model's prediction power.\n",
    "- The sentiment analysis approach might be used for a variety of purposes, including brand monitoring, customer feedback analysis, and social media sentiment tracking."
   ]
  }
 ],
 "metadata": {
  "kernelspec": {
   "display_name": "Python 3 (ipykernel)",
   "language": "python",
   "name": "python3"
  },
  "language_info": {
   "codemirror_mode": {
    "name": "ipython",
    "version": 3
   },
   "file_extension": ".py",
   "mimetype": "text/x-python",
   "name": "python",
   "nbconvert_exporter": "python",
   "pygments_lexer": "ipython3",
   "version": "3.10.9"
  }
 },
 "nbformat": 4,
 "nbformat_minor": 5
}
